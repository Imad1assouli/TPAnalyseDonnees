{
 "cells": [
  {
   "attachments": {},
   "cell_type": "markdown",
   "metadata": {},
   "source": [
    "# TP3 :  Réaliser une ACM pour deux variables qualitatives (\"hair\" et \"eyes\")\n",
    "\n",
    "#### Réalisé par : \n",
    "- Assouli imad eddine\n",
    "- Lachhab mossab\n",
    "- Chrit adam\n"
   ]
  },
  {
   "cell_type": "code",
   "execution_count": 87,
   "metadata": {},
   "outputs": [],
   "source": [
    "import pandas as pd\n",
    "import numpy as np\n",
    "import itertools\n",
    "from scipy . stats import chi2_contingency\n",
    "import seaborn as sns ;\n",
    "sns.set()\n",
    "import matplotlib.pyplot as plt\n"
   ]
  },
  {
   "cell_type": "code",
   "execution_count": 88,
   "metadata": {},
   "outputs": [],
   "source": [
    "#les variables qualitatives\n",
    "\n",
    "hair = [\"Chatains\",\"Roux\",\"Blonds\"]\n",
    "eyes = [\"Marrons\",\"Noisettes\",\"Verts\",\"Bleus\"]\n"
   ]
  },
  {
   "cell_type": "code",
   "execution_count": 89,
   "metadata": {},
   "outputs": [],
   "source": [
    "data = pd.read_csv(r\"C:\\Users\\Ahmed\\Desktop\\TPAnalyseDonnees\\TP3.csv\", index_col=0)"
   ]
  },
  {
   "cell_type": "code",
   "execution_count": 90,
   "metadata": {},
   "outputs": [],
   "source": [
    "data = data[hair]"
   ]
  },
  {
   "cell_type": "code",
   "execution_count": 91,
   "metadata": {},
   "outputs": [
    {
     "name": "stdout",
     "output_type": "stream",
     "text": [
      "          Chatains  Roux  Blonds\n",
      "Marrons        119    26       7\n",
      "Noisette        54    14      10\n",
      "verts           29    14      16\n",
      "bleus           84    17      94\n"
     ]
    }
   ],
   "source": [
    "print(data)"
   ]
  },
  {
   "cell_type": "code",
   "execution_count": 92,
   "metadata": {},
   "outputs": [],
   "source": [
    "#convertir a numpay array\n",
    "\n",
    "finalData = data.to_numpy()"
   ]
  },
  {
   "cell_type": "code",
   "execution_count": 93,
   "metadata": {},
   "outputs": [],
   "source": [
    "#calculer la somme des effectifs du tableau de données\n",
    "sommeTotal =np.sum(finalData)"
   ]
  },
  {
   "cell_type": "code",
   "execution_count": 94,
   "metadata": {},
   "outputs": [],
   "source": [
    "#diviser la matrice des effectifs par la somme total pour avoir la matrice de correspondance\n",
    "correspondenceMatrix = np.divide ( finalData , sommeTotal )"
   ]
  },
  {
   "cell_type": "code",
   "execution_count": 95,
   "metadata": {},
   "outputs": [],
   "source": [
    "#creer la matrice d'independance qui est le produit de la somme marginale des lignes (vecteur colonne) par la somme marginale de colonnes (vecteur ligne)\n",
    "#somme maginale des lignes\n",
    "rowTotals = np.sum ( correspondenceMatrix , axis =1)\n",
    "#somme maginale des colonnes\n",
    "columnTotals = np . sum ( correspondenceMatrix , axis =0)\n",
    "#maintenant on calcule la matrice d'independance\n",
    "independenceMatrix = np.outer ( rowTotals , columnTotals )"
   ]
  },
  {
   "cell_type": "code",
   "execution_count": 96,
   "metadata": {},
   "outputs": [],
   "source": [
    "#calculer la Matrice d’écart à l’indépendance\n",
    "ecartIndep = np.divide(( correspondenceMatrix -independenceMatrix ) , np.sqrt( independenceMatrix ) )"
   ]
  },
  {
   "cell_type": "code",
   "execution_count": 97,
   "metadata": {},
   "outputs": [],
   "source": [
    "#creer la matrice d'independance qui est le produit de la somme marginale des lignes (vecteur colonne) par la somme marginale de colonnes (vecteur ligne)\n",
    "#somme maginale des lignes\n",
    "rowTotals = np.sum ( correspondenceMatrix , axis =1)\n",
    "#somme maginale des colonnes\n",
    "columnTotals = np . sum ( correspondenceMatrix , axis =0)\n",
    "#maintenant on calcule la matrice d'independance\n",
    "independenceMatrix = np.outer ( rowTotals , columnTotals )"
   ]
  },
  {
   "cell_type": "code",
   "execution_count": 98,
   "metadata": {},
   "outputs": [
    {
     "name": "stdout",
     "output_type": "stream",
     "text": [
      "matrice des vecteurs propres lignes [[-0.62942851  0.31149598 -0.71167467]\n",
      " [-0.27996163 -0.0619783   0.24337251]\n",
      " [ 0.01463709 -0.91044686 -0.41017653]\n",
      " [ 0.72472546  0.26498199 -0.51579473]]\n",
      "matrice des vecteurs propres colonnes [[-0.45576996 -0.23387532  0.85882249]\n",
      " [ 0.44873673 -0.89364877 -0.00521839]\n",
      " [-0.76870611 -0.38300681 -0.51224671]]\n",
      "matrice des valeurs propres [4.37528903e-01 1.03342834e-01 2.61304363e-17]\n",
      "les valeurs propres lignes [[-1.12317465  0.55584453 -1.26993764]\n",
      " [-0.69738707 -0.15438853  0.60624322]\n",
      " [ 0.0419229  -2.60766188 -1.17480958]\n",
      " [ 1.14177071  0.4174666  -0.81261021]]\n",
      "les valeurs propres colonnes [[-0.59290534 -0.30424543  1.11723125]\n",
      " [ 1.17161554 -2.33324512 -0.0136248 ]\n",
      " [-1.50065602 -0.74769989 -1.        ]]\n"
     ]
    }
   ],
   "source": [
    "#decomposition la Matrice d’écart à l’indépendance en matrice des vecteurs propres\n",
    "RowMatrix,ValPropresMatrix , ColumnMatix = np . linalg . svd ( ecartIndep , full_matrices =False )\n",
    "print(\"matrice des vecteurs propres lignes\",RowMatrix)\n",
    "print(\"matrice des vecteurs propres colonnes\",ColumnMatix)\n",
    "print(\"matrice des valeurs propres\",ValPropresMatrix)\n",
    "#obtension des valeurs propres a partir de ces matrices\n",
    "#valeurs propres lignes\n",
    "VpLigne = np.zeros((RowMatrix.shape [0] , RowMatrix.shape [1]))\n",
    "for i in range (RowMatrix.shape[0]) :\n",
    "    VpLigne[i] = np.divide( RowMatrix[i] , np.sqrt( rowTotals[i]))\n",
    "#valeurs propres colonnes\n",
    "VpCol = np.zeros((ColumnMatix.shape [0] , ColumnMatix.shape[1]))\n",
    "for i in range(ColumnMatix.shape[0]):\n",
    "    VpCol[i] = np.divide(ColumnMatix[i], np.sqrt(columnTotals[i]))\n",
    "print(\"les valeurs propres lignes\",VpLigne)\n",
    "print(\"les valeurs propres colonnes\",VpCol)"
   ]
  },
  {
   "cell_type": "code",
   "execution_count": 99,
   "metadata": {},
   "outputs": [
    {
     "name": "stdout",
     "output_type": "stream",
     "text": [
      "les coordonnees lignes [[-4.91421374e-01  5.74425495e-02 -3.31840247e-17]\n",
      " [-3.05126999e-01 -1.59549487e-02  1.58413998e-17]\n",
      " [ 1.83424824e-02 -2.69483169e-01 -3.06982868e-17]\n",
      " [ 4.99557684e-01  4.31421817e-02 -2.12338592e-17]]\n",
      "les coordonnees colonnes [[-2.59413224e-01 -3.14415850e-02  2.91937399e-17]\n",
      " [ 5.12615660e-01 -2.41124164e-01 -3.56022015e-19]\n",
      " [-6.56580383e-01 -7.72694252e-02 -2.61304363e-17]]\n"
     ]
    }
   ],
   "source": [
    "#calculer les coordonnées des lignes et des colonnes\n",
    "rowCoordinates = np.dot ( VpLigne , np.diag ( ValPropresMatrix) )\n",
    "print(\"les coordonnees lignes\",rowCoordinates)\n",
    "colCoordinates = np.dot ( VpCol , np.diag ( ValPropresMatrix ) )\n",
    "print(\"les coordonnees colonnes\",colCoordinates)"
   ]
  },
  {
   "cell_type": "code",
   "execution_count": 100,
   "metadata": {},
   "outputs": [
    {
     "ename": "IndexError",
     "evalue": "index 3 is out of bounds for axis 0 with size 3",
     "output_type": "error",
     "traceback": [
      "\u001b[1;31m---------------------------------------------------------------------------\u001b[0m",
      "\u001b[1;31mIndexError\u001b[0m                                Traceback (most recent call last)",
      "\u001b[1;32mc:\\Users\\Ahmed\\Desktop\\TPAnalyseDonnees\\TP3.ipynb Cell 15\u001b[0m in \u001b[0;36m5\n\u001b[0;32m      <a href='vscode-notebook-cell:/c%3A/Users/Ahmed/Desktop/TPAnalyseDonnees/TP3.ipynb#X26sZmlsZQ%3D%3D?line=2'>3</a>\u001b[0m     plt\u001b[39m.\u001b[39mannotate(label, (rowCoordinates[i,\u001b[39m0\u001b[39m], rowCoordinates[i,\u001b[39m1\u001b[39m]))\n\u001b[0;32m      <a href='vscode-notebook-cell:/c%3A/Users/Ahmed/Desktop/TPAnalyseDonnees/TP3.ipynb#X26sZmlsZQ%3D%3D?line=3'>4</a>\u001b[0m \u001b[39mfor\u001b[39;00m i, label \u001b[39min\u001b[39;00m \u001b[39menumerate\u001b[39m(eyes):\n\u001b[1;32m----> <a href='vscode-notebook-cell:/c%3A/Users/Ahmed/Desktop/TPAnalyseDonnees/TP3.ipynb#X26sZmlsZQ%3D%3D?line=4'>5</a>\u001b[0m     plt\u001b[39m.\u001b[39mannotate(label, (colCoordinates[i,\u001b[39m0\u001b[39;49m], colCoordinates[i,\u001b[39m1\u001b[39m]))\n\u001b[0;32m      <a href='vscode-notebook-cell:/c%3A/Users/Ahmed/Desktop/TPAnalyseDonnees/TP3.ipynb#X26sZmlsZQ%3D%3D?line=5'>6</a>\u001b[0m plt\u001b[39m.\u001b[39mxlabel(\u001b[39m\"\u001b[39m\u001b[39mDimension 1\u001b[39m\u001b[39m\"\u001b[39m)\n\u001b[0;32m      <a href='vscode-notebook-cell:/c%3A/Users/Ahmed/Desktop/TPAnalyseDonnees/TP3.ipynb#X26sZmlsZQ%3D%3D?line=6'>7</a>\u001b[0m plt\u001b[39m.\u001b[39mylabel(\u001b[39m\"\u001b[39m\u001b[39mDimension 2\u001b[39m\u001b[39m\"\u001b[39m)\n",
      "\u001b[1;31mIndexError\u001b[0m: index 3 is out of bounds for axis 0 with size 3"
     ]
    },
    {
     "data": {
      "image/png": "[encoded data removed]",
      "text/plain": [
       "<Figure size 640x480 with 1 Axes>"
      ]
     },
     "metadata": {},
     "output_type": "display_data"
    }
   ],
   "source": [
    "plt.scatter(rowCoordinates[:,0], rowCoordinates[:,1])\n",
    "for i, label in enumerate(hair):\n",
    "    plt.annotate(label, (rowCoordinates[i,0], rowCoordinates[i,1]))\n",
    "for i, label in enumerate(eyes):\n",
    "    plt.annotate(label, (colCoordinates[i,0], colCoordinates[i,1]))\n",
    "plt.xlabel(\"Dimension 1\")\n",
    "plt.ylabel(\"Dimension 2\")\n",
    "plt.title(\"Scatter plot of hair and eye color\")\n",
    "plt.show()\n",
    "\n",
    "\n",
    "\n",
    "\n",
    "\n",
    "\n",
    "\n"
   ]
  },
  {
   "cell_type": "code",
   "execution_count": null,
   "metadata": {},
   "outputs": [
    {
     "ename": "IndexError",
     "evalue": "list index out of range",
     "output_type": "error",
     "traceback": [
      "\u001b[1;31m---------------------------------------------------------------------------\u001b[0m",
      "\u001b[1;31mIndexError\u001b[0m                                Traceback (most recent call last)",
      "\u001b[1;32mc:\\Users\\Ahmed\\Desktop\\TPAnalyseDonnees\\TP3.ipynb Cell 15\u001b[0m in \u001b[0;36m5\n\u001b[0;32m      <a href='vscode-notebook-cell:/c%3A/Users/Ahmed/Desktop/TPAnalyseDonnees/TP3.ipynb#X15sZmlsZQ%3D%3D?line=2'>3</a>\u001b[0m \u001b[39mfor\u001b[39;00m i \u001b[39min\u001b[39;00m \u001b[39mrange\u001b[39m(\u001b[39mlen\u001b[39m(rowCoordinates)):\n\u001b[0;32m      <a href='vscode-notebook-cell:/c%3A/Users/Ahmed/Desktop/TPAnalyseDonnees/TP3.ipynb#X15sZmlsZQ%3D%3D?line=3'>4</a>\u001b[0m     ax\u001b[39m.\u001b[39mscatter(rowCoordinates[i, \u001b[39m0\u001b[39m], rowCoordinates[i, \u001b[39m1\u001b[39m], color\u001b[39m=\u001b[39m\u001b[39m'\u001b[39m\u001b[39mblue\u001b[39m\u001b[39m'\u001b[39m)\n\u001b[1;32m----> <a href='vscode-notebook-cell:/c%3A/Users/Ahmed/Desktop/TPAnalyseDonnees/TP3.ipynb#X15sZmlsZQ%3D%3D?line=4'>5</a>\u001b[0m     ax\u001b[39m.\u001b[39mtext(rowCoordinates[i, \u001b[39m0\u001b[39m] \u001b[39m+\u001b[39m \u001b[39m0.005\u001b[39m, rowCoordinates[i, \u001b[39m1\u001b[39m] \u001b[39m+\u001b[39m \u001b[39m0.005\u001b[39m, \u001b[39mf\u001b[39m\u001b[39m'\u001b[39m\u001b[39m{\u001b[39;00mhair[i]\u001b[39m}\u001b[39;00m\u001b[39m - \u001b[39m\u001b[39m{\u001b[39;00meyes[i]\u001b[39m}\u001b[39;00m\u001b[39m'\u001b[39m, fontsize\u001b[39m=\u001b[39m\u001b[39m8\u001b[39m)\n\u001b[0;32m      <a href='vscode-notebook-cell:/c%3A/Users/Ahmed/Desktop/TPAnalyseDonnees/TP3.ipynb#X15sZmlsZQ%3D%3D?line=6'>7</a>\u001b[0m ax\u001b[39m.\u001b[39mset_title(\u001b[39m\"\u001b[39m\u001b[39mNuage de points avec les variables qualitatives hair et eyes\u001b[39m\u001b[39m\"\u001b[39m)\n\u001b[0;32m      <a href='vscode-notebook-cell:/c%3A/Users/Ahmed/Desktop/TPAnalyseDonnees/TP3.ipynb#X15sZmlsZQ%3D%3D?line=7'>8</a>\u001b[0m ax\u001b[39m.\u001b[39mset_xlabel(\u001b[39m\"\u001b[39m\u001b[39mCp 1\u001b[39m\u001b[39m\"\u001b[39m)\n",
      "\u001b[1;31mIndexError\u001b[0m: list index out of range"
     ]
    },
    {
     "data": {
      "image/png": "[encoded data removed]",
      "text/plain": [
       "<Figure size 800x600 with 1 Axes>"
      ]
     },
     "metadata": {},
     "output_type": "display_data"
    }
   ],
   "source": [
    "\n",
    "# afficher le nuage de points avec les étiquettes \"hair\" et \"eyes\"\n",
    "fig, ax = plt.subplots(figsize=(8, 6))\n",
    "for i in range(len(rowCoordinates)):\n",
    "    ax.scatter(rowCoordinates[i, 0], rowCoordinates[i, 1], color='blue')\n",
    "    ax.text(rowCoordinates[i, 0] + 0.005, rowCoordinates[i, 1] + 0.005, f'{hair[i]} - {eyes[i]}', fontsize=8)\n",
    "\n",
    "ax.set_title(\"Nuage de points avec les variables qualitatives hair et eyes\")\n",
    "ax.set_xlabel(\"Cp 1\")\n",
    "ax.set_ylabel(\"Cp 2\")\n",
    "plt.show()"
   ]
  }
 ],
 "metadata": {
  "kernelspec": {
   "display_name": "Python 3",
   "language": "python",
   "name": "python3"
  },
  "language_info": {
   "codemirror_mode": {
    "name": "ipython",
    "version": 3
   },
   "file_extension": ".py",
   "mimetype": "text/x-python",
   "name": "python",
   "nbconvert_exporter": "python",
   "pygments_lexer": "ipython3",
   "version": "3.11.0"
  },
  "orig_nbformat": 4
 },
 "nbformat": 4,
 "nbformat_minor": 2
}
